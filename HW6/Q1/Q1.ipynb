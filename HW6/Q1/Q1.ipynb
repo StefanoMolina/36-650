{
 "cells": [
  {
   "cell_type": "markdown",
   "metadata": {},
   "source": [
    "For this task I would use a tuple, since they are immutable. This reduces the risk of accidental deletion of some elements. Also, tuples are faster to work with because of their structure and also memory efficient, which is an advantage if the number of elements gets big."
   ]
  }
 ],
 "metadata": {
  "interpreter": {
   "hash": "c00c9a1689b7e9438734bbfa1b768944248c07a1b0295841a5b9f77175724aea"
  },
  "kernelspec": {
   "display_name": "Python 3.8.8 64-bit ('base': conda)",
   "language": "python",
   "name": "python3"
  },
  "language_info": {
   "name": "python",
   "version": "3.8.8"
  },
  "orig_nbformat": 4
 },
 "nbformat": 4,
 "nbformat_minor": 2
}
