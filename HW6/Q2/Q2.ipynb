{
 "cells": [
  {
   "cell_type": "code",
   "execution_count": 3,
   "metadata": {},
   "outputs": [
    {
     "name": "stdout",
     "output_type": "stream",
     "text": [
      "2\n",
      "3\n",
      "4\n",
      "5\n"
     ]
    }
   ],
   "source": [
    "class Queue:\n",
    "    inner_list = []\n",
    "    counter = 0\n",
    "    tail = 0\n",
    "    \n",
    "    def enqueue(self, value):\n",
    "        self.counter = self.counter + 1\n",
    "        self.inner_list.insert(self.counter, value)\n",
    "        return value\n",
    "        \n",
    "    def dequeue(self):\n",
    "        self.tail = self.tail + 1\n",
    "        value = self.inner_list.pop(0)\n",
    "        return value\n",
    "    \n",
    "    def delete(self, value):\n",
    "        for i in range(1,self.counter-self.tail+1):\n",
    "            tmp = self.dequeue()\n",
    "            if tmp == value:\n",
    "                continue   \n",
    "            self.enqueue(tmp)\n",
    "        return value\n",
    "    \n",
    "\n",
    "        \n",
    "obj = Queue()\n",
    "obj.enqueue(1)\n",
    "obj.enqueue(2)\n",
    "obj.enqueue(3)\n",
    "obj.enqueue(4)\n",
    "obj.enqueue(5)\n",
    "obj.enqueue(6)\n",
    "\n",
    "obj.delete(1)\n",
    "\n",
    "print(obj.dequeue())\n",
    "print(obj.dequeue())\n",
    "print(obj.dequeue())\n",
    "print(obj.dequeue())\n",
    "\n"
   ]
  }
 ],
 "metadata": {
  "interpreter": {
   "hash": "c00c9a1689b7e9438734bbfa1b768944248c07a1b0295841a5b9f77175724aea"
  },
  "kernelspec": {
   "display_name": "Python 3.8.8 64-bit ('base': conda)",
   "name": "python3"
  },
  "language_info": {
   "codemirror_mode": {
    "name": "ipython",
    "version": 3
   },
   "file_extension": ".py",
   "mimetype": "text/x-python",
   "name": "python",
   "nbconvert_exporter": "python",
   "pygments_lexer": "ipython3",
   "version": "3.8.8"
  },
  "orig_nbformat": 4
 },
 "nbformat": 4,
 "nbformat_minor": 2
}
